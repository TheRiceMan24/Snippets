{
  "nbformat": 4,
  "nbformat_minor": 0,
  "metadata": {
    "colab": {
      "name": "Make an SQL Database",
      "provenance": [],
      "authorship_tag": "ABX9TyNDr8qRmUXrc888dz/Biz7y",
      "include_colab_link": true
    },
    "kernelspec": {
      "name": "python3",
      "display_name": "Python 3"
    },
    "language_info": {
      "name": "python"
    }
  },
  "cells": [
    {
      "cell_type": "markdown",
      "metadata": {
        "id": "view-in-github",
        "colab_type": "text"
      },
      "source": [
        "<a href=\"https://colab.research.google.com/github/TheRiceMan24/Snippets/blob/main/Make_an_SQL_Database.ipynb\" target=\"_parent\"><img src=\"https://colab.research.google.com/assets/colab-badge.svg\" alt=\"Open In Colab\"/></a>"
      ]
    },
    {
      "cell_type": "code",
      "execution_count": null,
      "metadata": {
        "id": "PCQvxccr-kW2"
      },
      "outputs": [],
      "source": [
        "import sqlite3\n",
        "import os\n",
        "database = 'college.db'\n",
        "if os.path.exists(database):\n",
        "    os.remove(database)\n",
        "\n",
        "sql = '''\n",
        "BEGIN TRANSACTION;\n",
        "DROP TABLE IF EXISTS \"student\";\n",
        "CREATE TABLE IF NOT EXISTS \"student\" (\n",
        "\t\"StudentID\"\tINTEGER NOT NULL PRIMARY KEY AUTOINCREMENT,\n",
        "\t\"FirstName\"\tTEXT,\n",
        "\t\"Surname\"\tTEXT,\n",
        "\t\"TutorID\"\tINTEGER,\n",
        "\tFOREIGN KEY(\"TutorID\") REFERENCES \"tutor\"(\"TutorID\")\n",
        ");\n",
        "DROP TABLE IF EXISTS \"tutor\";\n",
        "CREATE TABLE IF NOT EXISTS \"tutor\" (\n",
        "\t\"TutorID\"\tINTEGER NOT NULL PRIMARY KEY AUTOINCREMENT,\n",
        "\t\"FirstName\"\tTEXT,\n",
        "\t\"Surname\"\tTEXT\n",
        ");\n",
        "INSERT INTO \"student\" (\"StudentID\",\"FirstName\",\"Surname\",\"TutorID\") VALUES (1,'FirstName1','LastName1',1),\n",
        " (2,'FirstName2','LastName1',2),\n",
        " (3,'FirstName3','LastName1',3),\n",
        " (4,'FirstName4','LastName1',4);\n",
        "INSERT INTO \"tutor\" (\"TutorID\",\"FirstName\",\"Surname\") VALUES (1,'Teacherfirst1','Teacherlast1'),\n",
        " (2,'Teacherfirst2','Teacherlast2'),\n",
        " (3,'Teacherfirst3','Teacherlast3');\n",
        "COMMIT;\n",
        "'''\n",
        "\n",
        "con = sqlite3.connect(database)\n",
        "cur = con.cursor()\n",
        "cur.executescript(sql)\n",
        "con.commit()\n",
        "con.close()\n"
      ]
    }
  ]
}